{
 "cells": [
  {
   "cell_type": "markdown",
   "metadata": {},
   "source": [
    "# Uplift Modeling for X5 dataset"
   ]
  },
  {
   "cell_type": "markdown",
   "metadata": {},
   "source": [
    "**Проект выполнили:**\n",
    "* Евгений Безмен\n",
    "* Евгений Туров\n",
    "* Ильяс Шаймухаметов\n",
    "* Ярослав Петрик"
   ]
  },
  {
   "cell_type": "code",
   "execution_count": 1,
   "metadata": {},
   "outputs": [],
   "source": [
    "!pip install -r requirements.txt\n",
    "from IPython.display import clear_output\n",
    "import pandas as pd\n",
    "import numpy as np\n",
    "clear_output()"
   ]
  },
  {
   "cell_type": "markdown",
   "metadata": {},
   "source": [
    "## Валидация данных"
   ]
  },
  {
   "cell_type": "markdown",
   "metadata": {},
   "source": [
    "#### Предобработка данных"
   ]
  },
  {
   "cell_type": "code",
   "execution_count": 2,
   "metadata": {},
   "outputs": [],
   "source": [
    "# Импорт данных\n",
    "from sklift.datasets import fetch_x5\n",
    "dataset = fetch_x5()\n",
    "\n",
    "clients_df = dataset.data.clients\n",
    "clients_df = clients_df.set_index('client_id')\n",
    "\n",
    "purchases_df = dataset.data.purchases\n",
    "purchases_df = purchases_df.set_index('client_id')\n",
    "\n",
    "train_df = pd.DataFrame(data= np.c_[dataset.data.train, dataset.treatment, dataset.target],\n",
    "                     columns= dataset.feature_names.train_features)\n",
    "train_df = train_df.set_index('client_id')"
   ]
  },
  {
   "cell_type": "code",
   "execution_count": 3,
   "metadata": {},
   "outputs": [],
   "source": [
    "# Извлечение признаков\n",
    "features_df = clients_df.copy()\n",
    "features_df['first_issue_time'] = (pd.to_datetime(features_df['first_issue_date'])\n",
    "                                   - pd.Timestamp('1970-01-01')) // pd.Timedelta('1s')\n",
    "features_df['first_redeem_time'] = (pd.to_datetime(features_df['first_redeem_date'])\n",
    "                                   - pd.Timestamp('1970-01-01')) // pd.Timedelta('1s')\n",
    "features_df['issue_redeem_delay'] = features_df['first_redeem_time'] - features_df['first_issue_time']\n",
    "features_df = features_df.drop(['first_issue_date', 'first_redeem_date'], axis=1)\n",
    "\n",
    "avr_check = purchases_df.drop_duplicates('transaction_id').groupby('client_id')['purchase_sum'].mean()\n",
    "num_purchases = purchases_df.drop_duplicates('transaction_id').groupby('client_id')['transaction_id'].count()\n",
    "points_spent = -(purchases_df.drop_duplicates('transaction_id').groupby('client_id')['regular_points_spent'].sum() + purchases_df.drop_duplicates('transaction_id').groupby('client_id')['express_points_spent'].sum())\n",
    "\n",
    "features_df['avr_check'] = features_df.index.map(avr_check)\n",
    "features_df['num_purchases'] = features_df.index.map(num_purchases)\n",
    "features_df['points_spent'] = features_df.index.map(points_spent)\n",
    "\n",
    "train_df = train_df.astype('int64')"
   ]
  },
  {
   "cell_type": "code",
   "execution_count": 4,
   "metadata": {},
   "outputs": [
    {
     "data": {
      "text/html": [
       "<div>\n",
       "<style scoped>\n",
       "    .dataframe tbody tr th:only-of-type {\n",
       "        vertical-align: middle;\n",
       "    }\n",
       "\n",
       "    .dataframe tbody tr th {\n",
       "        vertical-align: top;\n",
       "    }\n",
       "\n",
       "    .dataframe thead th {\n",
       "        text-align: right;\n",
       "    }\n",
       "</style>\n",
       "<table border=\"1\" class=\"dataframe\">\n",
       "  <thead>\n",
       "    <tr style=\"text-align: right;\">\n",
       "      <th></th>\n",
       "      <th>age</th>\n",
       "      <th>gender</th>\n",
       "      <th>first_issue_time</th>\n",
       "      <th>first_redeem_time</th>\n",
       "      <th>issue_redeem_delay</th>\n",
       "      <th>avr_check</th>\n",
       "      <th>num_purchases</th>\n",
       "      <th>points_spent</th>\n",
       "    </tr>\n",
       "    <tr>\n",
       "      <th>client_id</th>\n",
       "      <th></th>\n",
       "      <th></th>\n",
       "      <th></th>\n",
       "      <th></th>\n",
       "      <th></th>\n",
       "      <th></th>\n",
       "      <th></th>\n",
       "      <th></th>\n",
       "    </tr>\n",
       "  </thead>\n",
       "  <tbody>\n",
       "    <tr>\n",
       "      <th>000012768d</th>\n",
       "      <td>45</td>\n",
       "      <td>U</td>\n",
       "      <td>1501947648</td>\n",
       "      <td>1.515094e+09</td>\n",
       "      <td>13146559.0</td>\n",
       "      <td>700.750000</td>\n",
       "      <td>4</td>\n",
       "      <td>-0.0</td>\n",
       "    </tr>\n",
       "    <tr>\n",
       "      <th>000036f903</th>\n",
       "      <td>72</td>\n",
       "      <td>F</td>\n",
       "      <td>1491832463</td>\n",
       "      <td>1.492951e+09</td>\n",
       "      <td>1118613.0</td>\n",
       "      <td>306.406250</td>\n",
       "      <td>32</td>\n",
       "      <td>-0.0</td>\n",
       "    </tr>\n",
       "    <tr>\n",
       "      <th>000048b7a6</th>\n",
       "      <td>68</td>\n",
       "      <td>F</td>\n",
       "      <td>1544880791</td>\n",
       "      <td>NaN</td>\n",
       "      <td>NaN</td>\n",
       "      <td>471.500000</td>\n",
       "      <td>8</td>\n",
       "      <td>-0.0</td>\n",
       "    </tr>\n",
       "    <tr>\n",
       "      <th>000073194a</th>\n",
       "      <td>60</td>\n",
       "      <td>F</td>\n",
       "      <td>1495544174</td>\n",
       "      <td>1.511522e+09</td>\n",
       "      <td>15978107.0</td>\n",
       "      <td>564.788235</td>\n",
       "      <td>17</td>\n",
       "      <td>96.0</td>\n",
       "    </tr>\n",
       "    <tr>\n",
       "      <th>00007c7133</th>\n",
       "      <td>67</td>\n",
       "      <td>U</td>\n",
       "      <td>1495469828</td>\n",
       "      <td>1.546277e+09</td>\n",
       "      <td>50806825.0</td>\n",
       "      <td>610.894545</td>\n",
       "      <td>11</td>\n",
       "      <td>240.0</td>\n",
       "    </tr>\n",
       "  </tbody>\n",
       "</table>\n",
       "</div>"
      ],
      "text/plain": [
       "            age gender  first_issue_time  first_redeem_time  \\\n",
       "client_id                                                     \n",
       "000012768d   45      U        1501947648       1.515094e+09   \n",
       "000036f903   72      F        1491832463       1.492951e+09   \n",
       "000048b7a6   68      F        1544880791                NaN   \n",
       "000073194a   60      F        1495544174       1.511522e+09   \n",
       "00007c7133   67      U        1495469828       1.546277e+09   \n",
       "\n",
       "            issue_redeem_delay   avr_check  num_purchases  points_spent  \n",
       "client_id                                                                \n",
       "000012768d          13146559.0  700.750000              4          -0.0  \n",
       "000036f903           1118613.0  306.406250             32          -0.0  \n",
       "000048b7a6                 NaN  471.500000              8          -0.0  \n",
       "000073194a          15978107.0  564.788235             17          96.0  \n",
       "00007c7133          50806825.0  610.894545             11         240.0  "
      ]
     },
     "execution_count": 4,
     "metadata": {},
     "output_type": "execute_result"
    }
   ],
   "source": [
    "features_df.head()"
   ]
  },
  {
   "cell_type": "code",
   "execution_count": 5,
   "metadata": {},
   "outputs": [
    {
     "data": {
      "text/html": [
       "<div>\n",
       "<style scoped>\n",
       "    .dataframe tbody tr th:only-of-type {\n",
       "        vertical-align: middle;\n",
       "    }\n",
       "\n",
       "    .dataframe tbody tr th {\n",
       "        vertical-align: top;\n",
       "    }\n",
       "\n",
       "    .dataframe thead th {\n",
       "        text-align: right;\n",
       "    }\n",
       "</style>\n",
       "<table border=\"1\" class=\"dataframe\">\n",
       "  <thead>\n",
       "    <tr style=\"text-align: right;\">\n",
       "      <th></th>\n",
       "      <th>treatment_flg</th>\n",
       "      <th>target</th>\n",
       "    </tr>\n",
       "    <tr>\n",
       "      <th>client_id</th>\n",
       "      <th></th>\n",
       "      <th></th>\n",
       "    </tr>\n",
       "  </thead>\n",
       "  <tbody>\n",
       "    <tr>\n",
       "      <th>000012768d</th>\n",
       "      <td>0</td>\n",
       "      <td>1</td>\n",
       "    </tr>\n",
       "    <tr>\n",
       "      <th>000036f903</th>\n",
       "      <td>1</td>\n",
       "      <td>1</td>\n",
       "    </tr>\n",
       "    <tr>\n",
       "      <th>00010925a5</th>\n",
       "      <td>1</td>\n",
       "      <td>1</td>\n",
       "    </tr>\n",
       "    <tr>\n",
       "      <th>0001f552b0</th>\n",
       "      <td>1</td>\n",
       "      <td>1</td>\n",
       "    </tr>\n",
       "    <tr>\n",
       "      <th>00020e7b18</th>\n",
       "      <td>1</td>\n",
       "      <td>1</td>\n",
       "    </tr>\n",
       "  </tbody>\n",
       "</table>\n",
       "</div>"
      ],
      "text/plain": [
       "            treatment_flg  target\n",
       "client_id                        \n",
       "000012768d              0       1\n",
       "000036f903              1       1\n",
       "00010925a5              1       1\n",
       "0001f552b0              1       1\n",
       "00020e7b18              1       1"
      ]
     },
     "execution_count": 5,
     "metadata": {},
     "output_type": "execute_result"
    }
   ],
   "source": [
    "train_df.head()"
   ]
  },
  {
   "cell_type": "markdown",
   "metadata": {},
   "source": [
    "##### Описание переменных\n",
    "\n",
    "<code>client_id</code> - уникальный идентификатор покупателя\n",
    "\n",
    "<code>age</code> - возраст (числовая переменная)\n",
    "\n",
    "<code>gender</code> - пол (категориальная переменная, U - не определен)\n",
    "\n",
    "<code>first_issue_time</code> - время выпуска карты (числовая переменная)\n",
    "\n",
    "<code>first_redeem_time</code> - время выкупа карты (числовая переменная)\n",
    "\n",
    "<code>issue_redeem_delay</code> - разница <code>first_redeem_time</code> и <code>first_issue_time</code> (числовая переменная)\n",
    "\n",
    "<code>avr_check</code> - средний чек (числовая переменная)\n",
    "\n",
    "<code>num_purchases</code> - число покупок (числовая переменная)\n",
    "\n",
    "<code>points_spent</code> - потраченные бонусные баллы (числовая переменная)\n",
    "\n",
    "<code>treatment_flg</code> - индикатор наличия коммуникации с покупателем (бинарная переменная)\n",
    "\n",
    "<code>target</code> - целевое действие (бинарная переменная)"
   ]
  },
  {
   "cell_type": "markdown",
   "metadata": {},
   "source": [
    "#### Оценка переменных"
   ]
  },
  {
   "cell_type": "code",
   "execution_count": 6,
   "metadata": {},
   "outputs": [
    {
     "name": "stdout",
     "output_type": "stream",
     "text": [
      "Количество повторов: 0\n",
      "Количество пропусков: 0\n"
     ]
    }
   ],
   "source": [
    "# Проверка на пропуски и повторы в client_id (feature датасет)\n",
    "print(f\"Количество повторов: {len(features_df.index) - len(np.unique(features_df.index))}\")\n",
    "print(f\"Количество пропусков: {features_df.index.isnull().sum()}\")"
   ]
  },
  {
   "cell_type": "code",
   "execution_count": 7,
   "metadata": {},
   "outputs": [
    {
     "name": "stdout",
     "output_type": "stream",
     "text": [
      "Количество повторов: 0\n",
      "Количество пропусков: 0\n"
     ]
    }
   ],
   "source": [
    "# Проверка на пропуски и повторы в client_id (train датасет)\n",
    "print(f\"Количество повторов: {len(train_df.index) - len(np.unique(train_df.index))}\")\n",
    "print(f\"Количество пропусков: {train_df.index.isnull().sum()}\")"
   ]
  },
  {
   "cell_type": "code",
   "execution_count": 8,
   "metadata": {},
   "outputs": [
    {
     "data": {
      "text/plain": [
       "array([[<AxesSubplot:title={'center':'treatment_flg'}>,\n",
       "        <AxesSubplot:title={'center':'target'}>]], dtype=object)"
      ]
     },
     "execution_count": 8,
     "metadata": {},
     "output_type": "execute_result"
    },
    {
     "data": {
      "image/png": "[encoded data removed]",
      "text/plain": [
       "<Figure size 576x576 with 2 Axes>"
      ]
     },
     "metadata": {
      "needs_background": "light"
     },
     "output_type": "display_data"
    }
   ],
   "source": [
    "# Размер treatment и control выборок\n",
    "# Распределение конверсии\n",
    "train_df.hist(figsize=(8, 8))"
   ]
  },
  {
   "cell_type": "code",
   "execution_count": 9,
   "metadata": {},
   "outputs": [
    {
     "data": {
      "text/plain": [
       "treatment_flg    0\n",
       "target           0\n",
       "dtype: int64"
      ]
     },
     "execution_count": 9,
     "metadata": {},
     "output_type": "execute_result"
    }
   ],
   "source": [
    "# Проверка на пропущенные значения в uplift_train.csv\n",
    "train_df.isnull().sum()"
   ]
  },
  {
   "cell_type": "code",
   "execution_count": 10,
   "metadata": {},
   "outputs": [
    {
     "data": {
      "text/plain": [
       "array([[<AxesSubplot:title={'center':'age'}>,\n",
       "        <AxesSubplot:title={'center':'first_issue_time'}>,\n",
       "        <AxesSubplot:title={'center':'first_redeem_time'}>],\n",
       "       [<AxesSubplot:title={'center':'issue_redeem_delay'}>,\n",
       "        <AxesSubplot:title={'center':'avr_check'}>,\n",
       "        <AxesSubplot:title={'center':'num_purchases'}>],\n",
       "       [<AxesSubplot:title={'center':'points_spent'}>, <AxesSubplot:>,\n",
       "        <AxesSubplot:>]], dtype=object)"
      ]
     },
     "execution_count": 10,
     "metadata": {},
     "output_type": "execute_result"
    },
    {
     "data": {
      "image/png": "[encoded data removed]",
      "text/plain": [
       "<Figure size 1080x1296 with 9 Axes>"
      ]
     },
     "metadata": {
      "needs_background": "light"
     },
     "output_type": "display_data"
    }
   ],
   "source": [
    "# Распределение признаков\n",
    "features_df.hist(figsize=(15, 18), bins=20)"
   ]
  },
  {
   "cell_type": "code",
   "execution_count": 11,
   "metadata": {},
   "outputs": [
    {
     "data": {
      "text/plain": [
       "age                       0\n",
       "gender                    0\n",
       "first_issue_time          0\n",
       "first_redeem_time     35469\n",
       "issue_redeem_delay    35469\n",
       "avr_check                 0\n",
       "num_purchases             0\n",
       "points_spent              0\n",
       "dtype: int64"
      ]
     },
     "execution_count": 11,
     "metadata": {},
     "output_type": "execute_result"
    }
   ],
   "source": [
    "# Проверка пропущенных значений в признаках\n",
    "features_df.isnull().sum()"
   ]
  },
  {
   "cell_type": "markdown",
   "metadata": {},
   "source": [
    "Проблемы:\n",
    "* В <code>age</code> присутствует отрицательный возраст\n",
    "* В <code>issue_redeem_delay</code> есть отрицательные значения\n",
    "* В <code>first_redeem_time</code> и <code>issue_redeem_delay</code> есть пропущенные значения"
   ]
  },
  {
   "cell_type": "code",
   "execution_count": 12,
   "metadata": {},
   "outputs": [],
   "source": [
    "bad_data = features_df[(features_df['age'] > 120) | (features_df['age'] < 0) | (features_df['issue_redeem_delay'] < 0)].index"
   ]
  },
  {
   "cell_type": "code",
   "execution_count": 13,
   "metadata": {},
   "outputs": [],
   "source": [
    "# Избавляемся от некорректных строчек в feature и train\n",
    "features_df = features_df.drop(bad_data, axis=0)\n",
    "train_df = train_df.drop(train_df.index.intersection(bad_data), axis=0)"
   ]
  },
  {
   "cell_type": "code",
   "execution_count": 14,
   "metadata": {},
   "outputs": [
    {
     "data": {
      "text/plain": [
       "age                       0\n",
       "gender                    0\n",
       "first_issue_time          0\n",
       "first_redeem_time     35431\n",
       "issue_redeem_delay    35431\n",
       "avr_check                 0\n",
       "num_purchases             0\n",
       "points_spent              0\n",
       "dtype: int64"
      ]
     },
     "execution_count": 14,
     "metadata": {},
     "output_type": "execute_result"
    }
   ],
   "source": [
    "features_df.isnull().sum()"
   ]
  },
  {
   "cell_type": "markdown",
   "metadata": {},
   "source": [
    "Настроить обработку пропущенных значений <code>first_redeem_time</code> и соответственно <code>issue_redeem_delay</code> можно в параметрах модели, либо позже вручную."
   ]
  },
  {
   "cell_type": "markdown",
   "metadata": {},
   "source": [
    "##### Итог:\n",
    "* Датасет почищен и готов к использованию, данные валидны\n",
    "* Соотношение treatment/control сбалансированное, так что в будущем можно применить трансформацию классов\n",
    "* Учитывая смысл переменной issue_redeem_delay, пропущенные значения в first_redeem_time стоит заменить на максимальные, чтобы issue_redeem_delay была максимальной для каждого id"
   ]
  },
  {
   "cell_type": "markdown",
   "metadata": {},
   "source": [
    "## Baseline"
   ]
  },
  {
   "cell_type": "markdown",
   "metadata": {},
   "source": [
    "#### Подготовка данных"
   ]
  },
  {
   "cell_type": "code",
   "execution_count": 15,
   "metadata": {},
   "outputs": [],
   "source": [
    "# Заменяем пропущенные значения в first_redeem_time и issue_redeem_delay на максимальные\n",
    "features_df['first_redeem_time'] = features_df['first_redeem_time'].fillna(features_df['first_redeem_time'].max())\n",
    "features_df['issue_redeem_delay'] = features_df['first_redeem_time'] - features_df['first_issue_time']"
   ]
  },
  {
   "cell_type": "code",
   "execution_count": 16,
   "metadata": {},
   "outputs": [],
   "source": [
    "from sklearn.model_selection import train_test_split\n",
    "\n",
    "indices_learn, indices_valid = train_test_split(train_df.index, test_size=0.3, random_state=1)\n",
    "\n",
    "X_train = features_df.loc[indices_learn, :]\n",
    "y_train = train_df.loc[indices_learn, 'target']\n",
    "treat_train = train_df.loc[indices_learn, 'treatment_flg']\n",
    "\n",
    "X_val = features_df.loc[indices_valid, :]\n",
    "y_val = train_df.loc[indices_valid, 'target']\n",
    "treat_val = train_df.loc[indices_valid, 'treatment_flg']"
   ]
  },
  {
   "cell_type": "code",
   "execution_count": 17,
   "metadata": {},
   "outputs": [],
   "source": [
    "# Для CatBoost\n",
    "cat_features = ['gender']"
   ]
  },
  {
   "cell_type": "markdown",
   "metadata": {},
   "source": [
    "#### Построение модели"
   ]
  },
  {
   "cell_type": "code",
   "execution_count": 18,
   "metadata": {},
   "outputs": [],
   "source": [
    "from sklift.models import TwoModels\n",
    "from catboost import CatBoostClassifier\n",
    "\n",
    "baseline = TwoModels(\n",
    "    estimator_trmnt = CatBoostClassifier(num_trees=30, random_state=111, nan_mode='Forbidden', logging_level='Silent'),\n",
    "    estimator_ctrl = CatBoostClassifier(num_trees=30, random_state=111, nan_mode='Forbidden', logging_level='Silent'),\n",
    "    method = 'vanilla'\n",
    ")"
   ]
  },
  {
   "cell_type": "code",
   "execution_count": 19,
   "metadata": {},
   "outputs": [],
   "source": [
    "baseline = baseline.fit(\n",
    "    X_train, y_train, treat_train,\n",
    "    estimator_trmnt_fit_params={'cat_features': cat_features}, \n",
    "    estimator_ctrl_fit_params={'cat_features': cat_features}\n",
    ")"
   ]
  },
  {
   "cell_type": "code",
   "execution_count": 20,
   "metadata": {},
   "outputs": [
    {
     "data": {
      "text/plain": [
       "array([<AxesSubplot:title={'center':'Treatment predictions'}, ylabel='Probability hist'>,\n",
       "       <AxesSubplot:title={'center':'Control predictions'}>,\n",
       "       <AxesSubplot:title={'center':'Uplift predictions'}>], dtype=object)"
      ]
     },
     "execution_count": 20,
     "metadata": {},
     "output_type": "execute_result"
    },
    {
     "data": {
      "image/png": "[encoded data removed]",
      "text/plain": [
       "<Figure size 1440x504 with 3 Axes>"
      ]
     },
     "metadata": {
      "needs_background": "light"
     },
     "output_type": "display_data"
    }
   ],
   "source": [
    "from sklift.viz import plot_uplift_preds\n",
    "\n",
    "uplift_baseline = baseline.predict(X_val)\n",
    "\n",
    "# Отрисовка распределения вероятностей и их разности (uplift)\n",
    "plot_uplift_preds(trmnt_preds=baseline.trmnt_preds_, ctrl_preds=baseline.ctrl_preds_)"
   ]
  },
  {
   "cell_type": "markdown",
   "metadata": {},
   "source": [
    "#### Метрики"
   ]
  },
  {
   "cell_type": "markdown",
   "metadata": {},
   "source": [
    "Чем больше в первых перцентилях разница двух response rate, тем больше uplift (красный цвет), а значит, тем лучше модель находит клиентов, которые положительно откликаются на коммуникацию."
   ]
  },
  {
   "cell_type": "code",
   "execution_count": 21,
   "metadata": {},
   "outputs": [
    {
     "name": "stderr",
     "output_type": "stream",
     "text": [
      "D:\\Anaconda_Python\\lib\\site-packages\\numpy\\core\\_asarray.py:83: VisibleDeprecationWarning: Creating an ndarray from ragged nested sequences (which is a list-or-tuple of lists-or-tuples-or ndarrays with different lengths or shapes) is deprecated. If you meant to do this, you must specify 'dtype=object' when creating the ndarray\n",
      "  return array(a, dtype, copy=False, order=order)\n"
     ]
    },
    {
     "data": {
      "text/plain": [
       "<AxesSubplot:title={'center':'Uplift by percentile\\nweighted average uplift = 0.0354'}, xlabel='Percentile', ylabel='Uplift = treatment response rate - control response rate'>"
      ]
     },
     "execution_count": 21,
     "metadata": {},
     "output_type": "execute_result"
    },
    {
     "data": {
      "image/png": "[encoded data removed]",
      "text/plain": [
       "<Figure size 576x432 with 1 Axes>"
      ]
     },
     "metadata": {
      "needs_background": "light"
     },
     "output_type": "display_data"
    }
   ],
   "source": [
    "from sklift.metrics import uplift_at_k\n",
    "from sklift.viz import plot_uplift_by_percentile\n",
    "\n",
    "plot_uplift_by_percentile(y_true=y_val, uplift=uplift_baseline, treatment=treat_val, strategy='overall', kind='line')"
   ]
  },
  {
   "cell_type": "markdown",
   "metadata": {},
   "source": [
    "Посчитаем эффект воздействия коммуникации на 30% самых \"перспективных\" покупателей"
   ]
  },
  {
   "cell_type": "code",
   "execution_count": 22,
   "metadata": {},
   "outputs": [
    {
     "name": "stdout",
     "output_type": "stream",
     "text": [
      "Uplift@30%: 0.0787\n"
     ]
    }
   ],
   "source": [
    "uplift_at_score = uplift_at_k(y_true=y_val, uplift=uplift_baseline, treatment=treat_val, strategy='overall', k=0.3)\n",
    "print(f\"Uplift@30%: {uplift_at_score:.4f}\")"
   ]
  }
 ],
 "metadata": {
  "kernelspec": {
   "display_name": "Python 3",
   "language": "python",
   "name": "python3"
  },
  "language_info": {
   "codemirror_mode": {
    "name": "ipython",
    "version": 3
   },
   "file_extension": ".py",
   "mimetype": "text/x-python",
   "name": "python",
   "nbconvert_exporter": "python",
   "pygments_lexer": "ipython3",
   "version": "3.8.5"
  }
 },
 "nbformat": 4,
 "nbformat_minor": 4
}
